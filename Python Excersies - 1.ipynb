{
 "cells": [
  {
   "cell_type": "code",
   "execution_count": 1,
   "metadata": {},
   "outputs": [],
   "source": [
    "# write a program to add two  integers 10 , 20"
   ]
  },
  {
   "cell_type": "code",
   "execution_count": 2,
   "metadata": {},
   "outputs": [
    {
     "name": "stdout",
     "output_type": "stream",
     "text": [
      "sum is 30\n"
     ]
    }
   ],
   "source": [
    "a = 10\n",
    "b = 20\n",
    "sum = a+b\n",
    "print (\"sum is\",sum)"
   ]
  },
  {
   "cell_type": "code",
   "execution_count": 2,
   "metadata": {},
   "outputs": [],
   "source": [
    "# Write a program to find the type of a, b ,c where a=2, b=2.8,c=\"John\""
   ]
  },
  {
   "cell_type": "code",
   "execution_count": 4,
   "metadata": {},
   "outputs": [
    {
     "name": "stdout",
     "output_type": "stream",
     "text": [
      "<class 'int'>\n",
      "<class 'float'>\n",
      "<class 'str'>\n"
     ]
    }
   ],
   "source": [
    "a=2\n",
    "b=2.8\n",
    "c=\"John\"\n",
    "print(type(a))\n",
    "print(type(b))\n",
    "print(type(c))"
   ]
  },
  {
   "cell_type": "code",
   "execution_count": 3,
   "metadata": {},
   "outputs": [],
   "source": [
    "# Write a program to swap the two numbers , where a=2 ,b=4 the program should print a= 4 ,b=2"
   ]
  },
  {
   "cell_type": "code",
   "execution_count": 12,
   "metadata": {},
   "outputs": [
    {
     "name": "stdout",
     "output_type": "stream",
     "text": [
      "a is 2 ,b is 4\n",
      "a is 4 ,b is 2\n"
     ]
    }
   ],
   "source": [
    "a=2\n",
    "b=4\n",
    "print(\"a is\",a,\",\"\"b is\",b)\n",
    "a,b=b,a\n",
    "print(\"a is\",a,','\"b is\",b)"
   ]
  },
  {
   "cell_type": "code",
   "execution_count": 4,
   "metadata": {},
   "outputs": [],
   "source": [
    "# Write a program to swap the two numbers , using 3 variables"
   ]
  },
  {
   "cell_type": "code",
   "execution_count": 19,
   "metadata": {},
   "outputs": [
    {
     "name": "stdout",
     "output_type": "stream",
     "text": [
      "a is 2 ,b is 4\n",
      "4\n",
      "2\n",
      "a is 4 ,b is 2\n"
     ]
    }
   ],
   "source": [
    "a=2\n",
    "b=4\n",
    "print(\"a is\",a,\",\"\"b is\",b)\n",
    "c=b\n",
    "b=a\n",
    "a=c\n",
    "print(\"a is\",a,\",\"\"b is\",b)"
   ]
  },
  {
   "cell_type": "code",
   "execution_count": 5,
   "metadata": {},
   "outputs": [],
   "source": [
    "# Write a program to print the numerator and denominator , quotient and remainder"
   ]
  },
  {
   "cell_type": "code",
   "execution_count": 31,
   "metadata": {},
   "outputs": [
    {
     "name": "stdin",
     "output_type": "stream",
     "text": [
      "Enter a fraction: 40/5\n"
     ]
    },
    {
     "name": "stdout",
     "output_type": "stream",
     "text": [
      "<class 'str'>\n",
      "40\n",
      "5\n",
      "8.0\n",
      "0\n"
     ]
    }
   ],
   "source": [
    "number=input(\"Enter a fraction:\")\n",
    "print(type(number))\n",
    "a,b=number.split('/')\n",
    "numerator=int(a)\n",
    "denominator=int(b)\n",
    "print(numerator)\n",
    "print(denominator)\n",
    "quotient=numerator/denominator\n",
    "remainder=numerator%denominator\n",
    "print(quotient)\n",
    "print(remainder)"
   ]
  },
  {
   "cell_type": "code",
   "execution_count": 6,
   "metadata": {},
   "outputs": [],
   "source": [
    "# Write a program to calculate simple interst , si =p*n*r/100"
   ]
  },
  {
   "cell_type": "code",
   "execution_count": 37,
   "metadata": {},
   "outputs": [
    {
     "name": "stdin",
     "output_type": "stream",
     "text": [
      "Enter the principal: 100000\n",
      "Number of years: 4\n",
      "Rate of interest: 8\n"
     ]
    },
    {
     "name": "stdout",
     "output_type": "stream",
     "text": [
      "Simple interest is 32000\n"
     ]
    }
   ],
   "source": [
    "P=float(input(\"Enter the principal:\"))\n",
    "N=float(input(\"Number of years:\"))\n",
    "R=float(input(\"Rate of interest:\"))\n",
    "si=int(P*N*R/100)\n",
    "print (\"Simple interest is\", si)"
   ]
  },
  {
   "cell_type": "code",
   "execution_count": 7,
   "metadata": {},
   "outputs": [],
   "source": [
    "# Write a program to calculate the area and circumference of a circle ,area=3.14*radius*radius , circumference=2*3.14*r"
   ]
  },
  {
   "cell_type": "code",
   "execution_count": 43,
   "metadata": {},
   "outputs": [
    {
     "name": "stdin",
     "output_type": "stream",
     "text": [
      "Enter the radius in cm: 6\n"
     ]
    },
    {
     "name": "stdout",
     "output_type": "stream",
     "text": [
      "Area of the circle: 113.04 cm²\n",
      "Circumference of circle is: 37.68\n"
     ]
    }
   ],
   "source": [
    "Radius=float(input(\"Enter the radius in cm:\"))\n",
    "area=3.14*Radius*Radius\n",
    "Circumference=2*3.14*Radius\n",
    "#print f({:.2f},'area')\n",
    "print(\"Area of the circle: {:.2f} cm²\".format(area))\n",
    "print(\"Circumference of circle is:\",Circumference)"
   ]
  },
  {
   "cell_type": "code",
   "execution_count": 8,
   "metadata": {},
   "outputs": [],
   "source": [
    "# Write a program to convert Celcius to Fariehiet , fariienhiet=1.8*celcius+32"
   ]
  },
  {
   "cell_type": "code",
   "execution_count": 46,
   "metadata": {},
   "outputs": [
    {
     "name": "stdin",
     "output_type": "stream",
     "text": [
      "Enter the temp in cel: 50\n"
     ]
    },
    {
     "name": "stdout",
     "output_type": "stream",
     "text": [
      "Temp in fariienhiet is: 122.0\n"
     ]
    }
   ],
   "source": [
    "celcius=float(input(\"Enter the temp in cel:\"))\n",
    "f=1.8*celcius+32\n",
    "print(\"Temp in fariienhiet is:\",f)\n",
    "                    "
   ]
  },
  {
   "cell_type": "code",
   "execution_count": 9,
   "metadata": {},
   "outputs": [],
   "source": [
    "# Write a program to find whether given number is odd or even"
   ]
  },
  {
   "cell_type": "code",
   "execution_count": 50,
   "metadata": {},
   "outputs": [
    {
     "name": "stdin",
     "output_type": "stream",
     "text": [
      "Enter the number: 54\n"
     ]
    },
    {
     "name": "stdout",
     "output_type": "stream",
     "text": [
      "the given number is even\n"
     ]
    }
   ],
   "source": [
    "number=int(input(\"Enter the number:\"))\n",
    "if number%2==0:\n",
    "    print(\"The given number is even\")\n",
    "else:\n",
    "    print(\"The given number is odd\")"
   ]
  },
  {
   "cell_type": "code",
   "execution_count": 10,
   "metadata": {},
   "outputs": [],
   "source": [
    "# Write a program to check whether the person can vote or not"
   ]
  },
  {
   "cell_type": "code",
   "execution_count": 53,
   "metadata": {},
   "outputs": [
    {
     "name": "stdin",
     "output_type": "stream",
     "text": [
      "Enter the age: 10\n"
     ]
    },
    {
     "name": "stdout",
     "output_type": "stream",
     "text": [
      "Person can't vote\n"
     ]
    }
   ],
   "source": [
    "Age=int(input(\"Enter the age:\"))\n",
    "if Age>=18:\n",
    "    print(\"Person can vote\")\n",
    "else:\n",
    "    print(\"Person can't vote\")"
   ]
  },
  {
   "cell_type": "code",
   "execution_count": 11,
   "metadata": {},
   "outputs": [],
   "source": [
    "# Write a program to find whether the given number is odd or even"
   ]
  },
  {
   "cell_type": "code",
   "execution_count": null,
   "metadata": {},
   "outputs": [],
   "source": [
    "number=int(input(\"Enter the number:\"))\n",
    "if number%2==0:\n",
    "    print(\"The given number is even\")\n",
    "else:\n",
    "    print(\"The given number is odd\")"
   ]
  },
  {
   "cell_type": "code",
   "execution_count": 12,
   "metadata": {},
   "outputs": [],
   "source": [
    "# Write a program to find whether the given year is leap year or not ?"
   ]
  },
  {
   "cell_type": "code",
   "execution_count": 61,
   "metadata": {},
   "outputs": [
    {
     "name": "stdin",
     "output_type": "stream",
     "text": [
      "Enter a year:  2028\n"
     ]
    },
    {
     "name": "stdout",
     "output_type": "stream",
     "text": [
      "2028 3 is a leap year.\n"
     ]
    }
   ],
   "source": [
    "year=int(input(\"Enter a year: \"))\n",
    "if (year%4==0):\n",
    "    if (year%100==0):\n",
    "        if (year%400==0):\n",
    "            print(f\"{year} 1 is a leap year.\")\n",
    "        else:\n",
    "            print(f\"{year} 2 is not a leap year.\")\n",
    "    else:\n",
    "        print(f\"{year} 3 is a leap year.\")\n",
    "else:\n",
    "    print(f\"{year} 4 is not a leap year.\")"
   ]
  },
  {
   "cell_type": "code",
   "execution_count": null,
   "metadata": {},
   "outputs": [],
   "source": [
    "# Write a program to find the bigeest of three numbers"
   ]
  },
  {
   "cell_type": "code",
   "execution_count": 64,
   "metadata": {},
   "outputs": [
    {
     "name": "stdin",
     "output_type": "stream",
     "text": [
      "Enter a value: 10\n",
      "Enter b value: 40\n",
      "Enter c value: 20\n"
     ]
    },
    {
     "name": "stdout",
     "output_type": "stream",
     "text": [
      "b is bigger\n"
     ]
    }
   ],
   "source": [
    "a=int(input(\"Enter a value:\"))\n",
    "b=int(input(\"Enter b value:\"))\n",
    "c=int(input(\"Enter c value:\"))\n",
    "if a>b:\n",
    "    if a>c:\n",
    "        print(\"a is bigger\")\n",
    "    else:\n",
    "        print(\"c is bigger\")\n",
    "elif b>c:\n",
    "    print(\"b is bigger\")\n",
    "else:\n",
    "    print(\"c is bigger\")\n",
    "\n",
    "    "
   ]
  },
  {
   "cell_type": "code",
   "execution_count": null,
   "metadata": {},
   "outputs": [],
   "source": []
  }
 ],
 "metadata": {
  "kernelspec": {
   "display_name": "Python 3 (ipykernel)",
   "language": "python",
   "name": "python3"
  },
  "language_info": {
   "codemirror_mode": {
    "name": "ipython",
    "version": 3
   },
   "file_extension": ".py",
   "mimetype": "text/x-python",
   "name": "python",
   "nbconvert_exporter": "python",
   "pygments_lexer": "ipython3",
   "version": "3.13.5"
  }
 },
 "nbformat": 4,
 "nbformat_minor": 4
}
