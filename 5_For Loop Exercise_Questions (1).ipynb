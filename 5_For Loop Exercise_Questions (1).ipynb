{
 "cells": [
  {
   "cell_type": "code",
   "execution_count": 2,
   "metadata": {},
   "outputs": [
    {
     "name": "stdout",
     "output_type": "stream",
     "text": [
      "34\n",
      "35\n",
      "36\n",
      "37\n",
      "38\n",
      "39\n",
      "40\n",
      "41\n",
      "42\n",
      "43\n",
      "44\n",
      "45\n"
     ]
    }
   ],
   "source": [
    "# Write a program using for loop to print from 34 to 45 (45 included)\n",
    "\n",
    "# your Answer\n",
    "for i in range(34,46):\n",
    "    print(i)\n"
   ]
  },
  {
   "cell_type": "code",
   "execution_count": 5,
   "metadata": {},
   "outputs": [
    {
     "name": "stdout",
     "output_type": "stream",
     "text": [
      "machinelearning\n",
      "machinelearning\n",
      "machinelearning\n",
      "machinelearning\n",
      "machinelearning\n",
      "machinelearning\n",
      "machinelearning\n",
      "machinelearning\n",
      "machinelearning\n",
      "machinelearning\n",
      "machinelearning\n",
      "machinelearning\n",
      "machinelearning\n",
      "machinelearning\n",
      "machinelearning\n",
      "machinelearning\n",
      "machinelearning\n",
      "machinelearning\n",
      "machinelearning\n",
      "machinelearning\n",
      "machinelearning\n",
      "machinelearning\n",
      "machinelearning\n",
      "machinelearning\n",
      "machinelearning\n",
      "machinelearning\n",
      "machinelearning\n",
      "machinelearning\n",
      "machinelearning\n",
      "machinelearning\n",
      "machinelearning\n",
      "machinelearning\n",
      "machinelearning\n",
      "machinelearning\n",
      "machinelearning\n",
      "machinelearning\n",
      "machinelearning\n",
      "machinelearning\n",
      "machinelearning\n",
      "machinelearning\n",
      "machinelearning\n",
      "machinelearning\n",
      "machinelearning\n",
      "machinelearning\n",
      "machinelearning\n",
      "machinelearning\n",
      "machinelearning\n",
      "machinelearning\n",
      "machinelearning\n",
      "machinelearning\n"
     ]
    }
   ],
   "source": [
    "# Write a program using for loop to print \"machinelearning\" 50 times \n",
    "\n",
    "# your Answer\n",
    "for i in range(50):\n",
    "    print(\"machinelearning\")"
   ]
  },
  {
   "cell_type": "code",
   "execution_count": 10,
   "metadata": {},
   "outputs": [
    {
     "name": "stdout",
     "output_type": "stream",
     "text": [
      "21\n",
      "23\n",
      "25\n",
      "27\n"
     ]
    }
   ],
   "source": [
    "# Write a program using for loop to print 21 ,23,25,27\n",
    "\n",
    "# your Answer\n",
    "for num in range(21,28,2):\n",
    "    print(num)\n"
   ]
  },
  {
   "cell_type": "code",
   "execution_count": 15,
   "metadata": {},
   "outputs": [
    {
     "name": "stdout",
     "output_type": "stream",
     "text": [
      "14 15 16 18 19 20 21 22 23 24 25 26 27 28 29 30 31 32 33 34 35 36 37 "
     ]
    }
   ],
   "source": [
    "#Write a Python program that prints all the numbers from 14 to 37(37 inclusive) except 17 .\n",
    "#Note : Use 'continue' statement.\n",
    "#Expected Output : 14 15 16 18 19 20 21 22 23 24 25 26 27 28 29 30 31 32 33 34 35 36 37\n",
    "\n",
    "# your Answer\n",
    "for num in range (14,38):\n",
    "    if num == 17:\n",
    "        continue\n",
    "    print(num,end=\" \")"
   ]
  },
  {
   "cell_type": "code",
   "execution_count": 25,
   "metadata": {},
   "outputs": [
    {
     "name": "stdout",
     "output_type": "stream",
     "text": [
      "86 88 90 92 94 96 98 100 "
     ]
    }
   ],
   "source": [
    "# Write a program to print only even numbers from 85 to 100 using for loop\n",
    "\n",
    "# your Answer\n",
    "for num in range(85,101):\n",
    "    if num%2==0:\n",
    "        print(num,end=\" \")"
   ]
  },
  {
   "cell_type": "code",
   "execution_count": 27,
   "metadata": {},
   "outputs": [
    {
     "name": "stdout",
     "output_type": "stream",
     "text": [
      "35\n"
     ]
    }
   ],
   "source": [
    "# Write a Python program to find those numbers which are divisible by 7 and multiple of 5, between 14 and 37\n",
    "\n",
    "# your Answer\n",
    "for num in range(14,38):\n",
    "    if num % 7 ==0 and num % 5 ==0:\n",
    "        print(num)"
   ]
  },
  {
   "cell_type": "code",
   "execution_count": 46,
   "metadata": {},
   "outputs": [
    {
     "name": "stdout",
     "output_type": "stream",
     "text": [
      "14\n",
      "15 goodmorning\n",
      "16\n",
      "17\n",
      "18 hello\n",
      "19\n",
      "20 hi\n",
      "21 hello\n",
      "22\n",
      "23\n",
      "24 hello\n",
      "25 hi\n",
      "26\n",
      "27 hello\n",
      "28\n",
      "29\n",
      "30 goodmorning\n",
      "31\n",
      "32\n",
      "33 hello\n",
      "34\n",
      "35 hi\n",
      "36 hello\n",
      "37\n"
     ]
    }
   ],
   "source": [
    "#Write a Python program which iterates the integers from 14 to 37. \n",
    "#For multiples of three print \"hello\" instead of the number and for the multiples of five print \"hi\". \n",
    "#For numbers which are multiples of both three and five print \"goodmorning\"\n",
    "\n",
    "# your Answer\n",
    "for num in range(14,38):\n",
    "    if num % 3 == 0 and num % 5 == 0:\n",
    "        print(num,\"goodmorning\")\n",
    "    elif num % 3 == 0:\n",
    "        print(num,\"hello\")\n",
    "    elif num % 5 == 0:\n",
    "        print(num,\"hi\")\n",
    "    else:\n",
    "        print(num)"
   ]
  },
  {
   "cell_type": "code",
   "execution_count": 50,
   "metadata": {},
   "outputs": [
    {
     "name": "stdout",
     "output_type": "stream",
     "text": [
      "2* 1 = 2\n",
      "2* 2 = 4\n",
      "2* 3 = 6\n",
      "2* 4 = 8\n",
      "2* 5 = 10\n",
      "2* 6 = 12\n",
      "2* 7 = 14\n",
      "2* 8 = 16\n",
      "2* 9 = 18\n",
      "2* 10 = 20\n"
     ]
    }
   ],
   "source": [
    "\"\"\"\n",
    "2*1 = 2\n",
    "2*2 = 4\n",
    ".\n",
    ".\n",
    ".\n",
    "2*10 = 20\n",
    "\"\"\"\n",
    "#Write program to print 2 table like above \n",
    "# your Answer\n",
    "for num in range(1,11):\n",
    "    multiple = 2*num \n",
    "    print(\"2*\",num,\"=\",multiple) "
   ]
  },
  {
   "cell_type": "code",
   "execution_count": null,
   "metadata": {},
   "outputs": [],
   "source": []
  }
 ],
 "metadata": {
  "kernelspec": {
   "display_name": "Python 3 (ipykernel)",
   "language": "python",
   "name": "python3"
  },
  "language_info": {
   "codemirror_mode": {
    "name": "ipython",
    "version": 3
   },
   "file_extension": ".py",
   "mimetype": "text/x-python",
   "name": "python",
   "nbconvert_exporter": "python",
   "pygments_lexer": "ipython3",
   "version": "3.13.5"
  }
 },
 "nbformat": 4,
 "nbformat_minor": 4
}
