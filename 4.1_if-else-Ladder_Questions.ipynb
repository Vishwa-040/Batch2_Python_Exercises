{
 "cells": [
  {
   "cell_type": "raw",
   "metadata": {},
   "source": [
    "Read Five marks tamil,english,maths,science and social and if all marks are greater than 35 , print pass else print fail"
   ]
  },
  {
   "cell_type": "markdown",
   "metadata": {},
   "source": [
    "Kannada = int(input(\"Enter Kannada marks:\"))\n",
    "English = int(input(\"Enter English marks:\"))\n",
    "Maths = int(input(\"Enter Maths marks:\"))\n",
    "Science = int(input(\"Enter Science marks:\"))\n",
    "Social = int(input(\"Enter Social marks:\"))\n",
    "if Kannada>=35:\n",
    "    if English>=35:\n",
    "        if Maths>=35:\n",
    "            if Science>=35:\n",
    "                if Social>=35:\n",
    "                    print(\"Pass\")\n",
    "                else:\n",
    "                    print(\"Fail\")\n",
    "            else:\n",
    "                print(\"Fail\")\n",
    "        else:\n",
    "            print(\"Fail\")\n",
    "    else:\n",
    "        print(\"Fail\")\n",
    "else:\n",
    "    print(\"Fail\")"
   ]
  },
  {
   "cell_type": "code",
   "execution_count": null,
   "metadata": {},
   "outputs": [],
   "source": []
  }
 ],
 "metadata": {
  "kernelspec": {
   "display_name": "Python 3 (ipykernel)",
   "language": "python",
   "name": "python3"
  },
  "language_info": {
   "codemirror_mode": {
    "name": "ipython",
    "version": 3
   },
   "file_extension": ".py",
   "mimetype": "text/x-python",
   "name": "python",
   "nbconvert_exporter": "python",
   "pygments_lexer": "ipython3",
   "version": "3.13.5"
  }
 },
 "nbformat": 4,
 "nbformat_minor": 4
}
