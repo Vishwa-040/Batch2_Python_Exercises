{
 "cells": [
  {
   "cell_type": "raw",
   "metadata": {},
   "source": [
    "Python Program to Replace all Occurrences of ‘a’ with $ in a String\n",
    "\n",
    "Given String = \"apple\""
   ]
  },
  {
   "cell_type": "code",
   "execution_count": 1,
   "metadata": {},
   "outputs": [
    {
     "name": "stdout",
     "output_type": "stream",
     "text": [
      "$pple\n"
     ]
    }
   ],
   "source": [
    "a = \"apple\"\n",
    "b = a.replace(\"a\",\"$\")\n",
    "print(b)"
   ]
  },
  {
   "cell_type": "raw",
   "metadata": {},
   "source": [
    "2.Python Program to Remove the 5th Index Character from a String"
   ]
  },
  {
   "cell_type": "code",
   "execution_count": 12,
   "metadata": {},
   "outputs": [
    {
     "name": "stdout",
     "output_type": "stream",
     "text": [
      "ItsAGodDay\n"
     ]
    }
   ],
   "source": [
    "a = \"ItsAGoodDay\"\n",
    "index = 5\n",
    "a1 = a[:index]\n",
    "a2 = a[index+1:]\n",
    "print(a1 + a2)"
   ]
  },
  {
   "cell_type": "raw",
   "metadata": {},
   "source": [
    "3.Python Program to Form a New String where the First Character and the Last Character have been Exchanged"
   ]
  },
  {
   "cell_type": "code",
   "execution_count": 34,
   "metadata": {},
   "outputs": [
    {
     "name": "stdout",
     "output_type": "stream",
     "text": [
      "ytsAGoodDaI\n"
     ]
    }
   ],
   "source": [
    "a = \"ItsAGoodDay\"\n",
    "b = a[-1] + a [1:-1] + a[0]\n",
    "print(b)"
   ]
  },
  {
   "cell_type": "raw",
   "metadata": {},
   "source": [
    "4.Python Program to Count the Number of Vowels in a String"
   ]
  },
  {
   "cell_type": "code",
   "execution_count": 38,
   "metadata": {},
   "outputs": [
    {
     "name": "stdout",
     "output_type": "stream",
     "text": [
      "a  is an  vowel\n",
      "e  is an  vowel\n",
      "i  is an  vowel\n",
      "o  is an  vowel\n",
      "u  is an  vowel\n",
      "i  is an  vowel\n",
      "o  is an  vowel\n",
      "e  is an  vowel\n",
      "8\n"
     ]
    }
   ],
   "source": [
    "string = \"aeiouinvowels\"\n",
    "vowels = \"aeiou\"\n",
    "num =0\n",
    "for each in string:\n",
    "    if each in vowels:\n",
    "        print(each,\" is an \",\"vowel\")\n",
    "        num += 1\n",
    "print(num)"
   ]
  },
  {
   "cell_type": "raw",
   "metadata": {},
   "source": [
    "5.Python Program to Take in a String and Replace Every Blank Space with Hyphen"
   ]
  },
  {
   "cell_type": "code",
   "execution_count": 41,
   "metadata": {},
   "outputs": [
    {
     "name": "stdout",
     "output_type": "stream",
     "text": [
      "aei-oui-nvo-wel-s\n"
     ]
    }
   ],
   "source": [
    "string = \"aei oui nvo wel s\"\n",
    "b = string.replace(\" \",\"-\")\n",
    "print(b)"
   ]
  },
  {
   "cell_type": "raw",
   "metadata": {},
   "source": [
    "6.Python Program to Calculate the Length of a String Without Using a Library Function"
   ]
  },
  {
   "cell_type": "code",
   "execution_count": 43,
   "metadata": {},
   "outputs": [
    {
     "name": "stdout",
     "output_type": "stream",
     "text": [
      "13\n"
     ]
    }
   ],
   "source": [
    "string = \"aeiouinvowels\"\n",
    "length = 0\n",
    "for each in string:\n",
    "    length = length + 1\n",
    "print(length)"
   ]
  },
  {
   "cell_type": "raw",
   "metadata": {},
   "source": [
    "7.Python Program to Remove the Characters of Odd Index Values in a String"
   ]
  },
  {
   "cell_type": "code",
   "execution_count": 91,
   "metadata": {},
   "outputs": [
    {
     "name": "stdout",
     "output_type": "stream",
     "text": [
      "7\n"
     ]
    }
   ],
   "source": [
    "string = \"aeiouinvowels\"\n",
    "count = 0\n",
    "for i in range(len(string)):\n",
    "    if i % 2 == 0:\n",
    "        count = count+1\n",
    "print(count)"
   ]
  },
  {
   "cell_type": "raw",
   "metadata": {},
   "source": [
    "8.Python Program to Calculate the Number of Words and the Number of Characters Present in a String"
   ]
  },
  {
   "cell_type": "code",
   "execution_count": 99,
   "metadata": {},
   "outputs": [
    {
     "name": "stdout",
     "output_type": "stream",
     "text": [
      "6\n",
      "36\n"
     ]
    }
   ],
   "source": [
    "string = \"Spring Summer Fall Winter and Spring\"\n",
    "words = string.split()\n",
    "a = len(string)\n",
    "print(len(words))\n",
    "print(a)\n"
   ]
  },
  {
   "cell_type": "raw",
   "metadata": {},
   "source": [
    "9.Python Program to Take in Two Strings and Display the Larger String without Using Built-in Functions"
   ]
  },
  {
   "cell_type": "code",
   "execution_count": 118,
   "metadata": {},
   "outputs": [
    {
     "name": "stdout",
     "output_type": "stream",
     "text": [
      "string1 is bigger\n"
     ]
    }
   ],
   "source": [
    "def length(string):\n",
    "        length = 0\n",
    "        for each in string:\n",
    "            length = length + 1\n",
    "        return length\n",
    "\n",
    "string1 = \"Spring Summer Fall Winter and Spring\"\n",
    "string2 = \"aeiouinvowels\"\n",
    "if length(string1) > length(string2):\n",
    "    print(\"string1 is bigger\")\n",
    "else:\n",
    "    print(\"string2 is bigger\")"
   ]
  },
  {
   "cell_type": "raw",
   "metadata": {},
   "source": [
    "10.Python Program to Count Number of Lowercase Characters in a String"
   ]
  },
  {
   "cell_type": "code",
   "execution_count": 123,
   "metadata": {},
   "outputs": [
    {
     "name": "stdout",
     "output_type": "stream",
     "text": [
      "26\n",
      "5\n"
     ]
    }
   ],
   "source": [
    "string = \"Spring Summer Fall Winter and Spring\"\n",
    "lower = 0\n",
    "upper = 0\n",
    "for each in string:\n",
    "    if each.islower():\n",
    "        lower += 1\n",
    "    elif each.isupper():\n",
    "        upper += 1\n",
    "print(lower)\n",
    "print(upper)\n",
    "    "
   ]
  },
  {
   "cell_type": "raw",
   "metadata": {},
   "source": [
    "11.Python Program to Check if a String is a Palindrome or Not"
   ]
  },
  {
   "cell_type": "code",
   "execution_count": 132,
   "metadata": {},
   "outputs": [
    {
     "name": "stdin",
     "output_type": "stream",
     "text": [
      "Enter the string: maaadddaaam\n"
     ]
    },
    {
     "name": "stdout",
     "output_type": "stream",
     "text": [
      "string is palindrome\n"
     ]
    }
   ],
   "source": [
    "string = input(\"Enter the string:\")\n",
    "if string == string[::-1]:\n",
    "    print(\"string is palindrome\")\n",
    "else:\n",
    "    print(\"string  not palindrome\")\n",
    "    "
   ]
  },
  {
   "cell_type": "raw",
   "metadata": {},
   "source": [
    "12.Python Program to Calculate the Number of Upper Case Letters and Lower Case Letters in a String"
   ]
  },
  {
   "cell_type": "code",
   "execution_count": 133,
   "metadata": {},
   "outputs": [
    {
     "name": "stdout",
     "output_type": "stream",
     "text": [
      "26\n",
      "5\n"
     ]
    }
   ],
   "source": [
    "string = \"Spring Summer Fall Winter and Spring\"\n",
    "lower = 0\n",
    "upper = 0\n",
    "for each in string:\n",
    "    if each.islower():\n",
    "        lower += 1\n",
    "    elif each.isupper():\n",
    "        upper += 1\n",
    "print(lower)\n",
    "print(upper)\n",
    "    "
   ]
  },
  {
   "cell_type": "raw",
   "metadata": {},
   "source": [
    "13.Python Program to Calculate the Number of Digits and Letters in a String"
   ]
  },
  {
   "cell_type": "code",
   "execution_count": 139,
   "metadata": {},
   "outputs": [
    {
     "name": "stdout",
     "output_type": "stream",
     "text": [
      "8\n",
      "31\n"
     ]
    }
   ],
   "source": [
    "string = \"Spring1 Summer2 Fall3 4Winter5 6and7 8Spring\"\n",
    "digit = 0\n",
    "letter = 0\n",
    "for each in string:\n",
    "    if each.isdigit():\n",
    "        digit += 1\n",
    "    elif each.isalpha():\n",
    "        letter += 1\n",
    "print(digit)\n",
    "print(letter)\n",
    "    "
   ]
  },
  {
   "cell_type": "raw",
   "metadata": {},
   "source": [
    "14.Python Program to Form a New String Made of the First 2 and Last 2 characters From a Given String"
   ]
  },
  {
   "cell_type": "code",
   "execution_count": 148,
   "metadata": {},
   "outputs": [
    {
     "name": "stdout",
     "output_type": "stream",
     "text": [
      "Spng\n"
     ]
    }
   ],
   "source": [
    "string = \"Spring1 Summer2 Fall3 4Winter5 6and7 8Spring\"\n",
    "string1 = string[:2]\n",
    "string2 = string[-2:]\n",
    "print(string1 + string2)"
   ]
  },
  {
   "cell_type": "raw",
   "metadata": {},
   "source": [
    "15.Python Program to Count the Occurrences of Each Word in a Given String Sentence\n",
    "\n",
    "\"Everybody is selfish , the ratio diferrs , time to time , person to to person\"\n",
    "\n",
    "count the occurance of \"time\""
   ]
  },
  {
   "cell_type": "code",
   "execution_count": 150,
   "metadata": {},
   "outputs": [
    {
     "name": "stdin",
     "output_type": "stream",
     "text": [
      "Enter the word: time\n"
     ]
    },
    {
     "name": "stdout",
     "output_type": "stream",
     "text": [
      "2\n"
     ]
    }
   ],
   "source": [
    "string = \"Everybody is selfish , the ratio diferrs , time to time , person to to person\"\n",
    "count = 0\n",
    "word_to_count = input(\"Enter the word:\")\n",
    "words = string.split()\n",
    "count = words.count(word_to_count)\n",
    "print(count)"
   ]
  },
  {
   "cell_type": "code",
   "execution_count": null,
   "metadata": {},
   "outputs": [],
   "source": []
  }
 ],
 "metadata": {
  "kernelspec": {
   "display_name": "Python 3 (ipykernel)",
   "language": "python",
   "name": "python3"
  },
  "language_info": {
   "codemirror_mode": {
    "name": "ipython",
    "version": 3
   },
   "file_extension": ".py",
   "mimetype": "text/x-python",
   "name": "python",
   "nbconvert_exporter": "python",
   "pygments_lexer": "ipython3",
   "version": "3.13.5"
  }
 },
 "nbformat": 4,
 "nbformat_minor": 4
}
